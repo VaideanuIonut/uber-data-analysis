{
 "cells": [
  {
   "cell_type": "code",
   "execution_count": 1,
   "id": "c6934b16-c734-40ae-a195-0eae71dfdf9d",
   "metadata": {},
   "outputs": [],
   "source": [
    "import pandas as pd\n",
    "import sqlite3"
   ]
  },
  {
   "cell_type": "code",
   "execution_count": 2,
   "id": "01d3271b-7849-41f0-8c42-bf16eebcefaf",
   "metadata": {},
   "outputs": [],
   "source": [
    "conn = sqlite3.connect('uber_data.db')"
   ]
  },
  {
   "cell_type": "code",
   "execution_count": 3,
   "id": "6f978714-5813-4fb1-b7d4-a9e2b16124b1",
   "metadata": {},
   "outputs": [],
   "source": [
    "df_uber = pd.read_csv('ncr_ride_bookings.csv')"
   ]
  },
  {
   "cell_type": "code",
   "execution_count": 4,
   "id": "07ee8c1d-67f8-4571-bf89-40a2f2ef9c9a",
   "metadata": {},
   "outputs": [
    {
     "data": {
      "text/plain": [
       "150000"
      ]
     },
     "execution_count": 4,
     "metadata": {},
     "output_type": "execute_result"
    }
   ],
   "source": [
    "df_uber.to_sql('rides',conn, if_exists = 'replace', index=False)"
   ]
  },
  {
   "cell_type": "code",
   "execution_count": 5,
   "id": "64013e75-4969-4866-a1ff-39baf45602a6",
   "metadata": {},
   "outputs": [],
   "source": [
    "df_rides = pd.read_sql(\"SELECT * FROM rides\", conn)"
   ]
  },
  {
   "cell_type": "code",
   "execution_count": 6,
   "id": "44fd1ef0-3a4a-49a1-82a4-a0f1b169bc29",
   "metadata": {},
   "outputs": [
    {
     "data": {
      "text/plain": [
       "Date                                      0\n",
       "Time                                      0\n",
       "Booking ID                                0\n",
       "Booking Status                            0\n",
       "Customer ID                               0\n",
       "Vehicle Type                              0\n",
       "Pickup Location                           0\n",
       "Drop Location                             0\n",
       "Avg VTAT                              10500\n",
       "Avg CTAT                              48000\n",
       "Cancelled Rides by Customer          139500\n",
       "Reason for cancelling by Customer    139500\n",
       "Cancelled Rides by Driver            123000\n",
       "Driver Cancellation Reason           123000\n",
       "Incomplete Rides                     141000\n",
       "Incomplete Rides Reason              141000\n",
       "Booking Value                         48000\n",
       "Ride Distance                         48000\n",
       "Driver Ratings                        57000\n",
       "Customer Rating                       57000\n",
       "Payment Method                        48000\n",
       "dtype: int64"
      ]
     },
     "execution_count": 6,
     "metadata": {},
     "output_type": "execute_result"
    }
   ],
   "source": [
    "df_rides.isnull().sum()"
   ]
  },
  {
   "cell_type": "markdown",
   "id": "edf32832-4684-49bc-a041-16f0453f521b",
   "metadata": {},
   "source": [
    "### Data Cleaning and Preparation\n",
    "\n",
    "In this phase, I prepared the raw dataset for analysis by handling missing values (NaN). These were filled with relevant values or placeholder text where appropriate.\n"
   ]
  },
  {
   "cell_type": "code",
   "execution_count": 7,
   "id": "6382d337-479b-4b10-a0b1-8d81bcd85980",
   "metadata": {},
   "outputs": [
    {
     "data": {
      "text/plain": [
       "Date                                 0\n",
       "Time                                 0\n",
       "Booking ID                           0\n",
       "Booking Status                       0\n",
       "Customer ID                          0\n",
       "Vehicle Type                         0\n",
       "Pickup Location                      0\n",
       "Drop Location                        0\n",
       "Avg VTAT                             0\n",
       "Avg CTAT                             0\n",
       "Cancelled Rides by Customer          0\n",
       "Reason for cancelling by Customer    0\n",
       "Cancelled Rides by Driver            0\n",
       "Driver Cancellation Reason           0\n",
       "Incomplete Rides                     0\n",
       "Incomplete Rides Reason              0\n",
       "Booking Value                        0\n",
       "Ride Distance                        0\n",
       "Driver Ratings                       0\n",
       "Customer Rating                      0\n",
       "Payment Method                       0\n",
       "dtype: int64"
      ]
     },
     "execution_count": 7,
     "metadata": {},
     "output_type": "execute_result"
    }
   ],
   "source": [
    "df_rides['Avg VTAT'] = df_rides['Avg VTAT'].fillna(df_rides['Avg VTAT'].median())\n",
    "df_rides['Avg CTAT'] = df_rides['Avg CTAT'].fillna(df_rides['Avg CTAT'].median())\n",
    "df_rides['Cancelled Rides by Customer'] = df_rides['Cancelled Rides by Customer'].fillna(0)\n",
    "df_rides['Reason for cancelling by Customer'] = df_rides['Reason for cancelling by Customer'].fillna('Unknown')\n",
    "df_rides['Cancelled Rides by Driver'] = df_rides['Cancelled Rides by Driver'].fillna(0)\n",
    "df_rides['Driver Cancellation Reason'] = df_rides['Driver Cancellation Reason'].fillna('Unknown')\n",
    "df_rides['Incomplete Rides'] = df_rides['Incomplete Rides'].fillna(0)\n",
    "df_rides['Incomplete Rides Reason'] = df_rides['Incomplete Rides Reason'].fillna('Unknown')\n",
    "df_rides['Booking Value'] = df_rides['Booking Value'].fillna(df_rides['Booking Value'].median())\n",
    "df_rides['Ride Distance'] = df_rides['Ride Distance'].fillna(df_rides['Ride Distance'].median())\n",
    "df_rides['Driver Ratings'] = df_rides['Driver Ratings'].fillna(df_rides['Driver Ratings'].median())\n",
    "df_rides['Customer Rating'] = df_rides['Customer Rating'].fillna(df_rides['Customer Rating'].median())\n",
    "df_rides['Payment Method'] = df_rides['Payment Method'].fillna('Unknown')\n",
    "df_rides.isnull().sum()"
   ]
  },
  {
   "cell_type": "markdown",
   "id": "823126ec-6bdb-4423-9d99-436288833978",
   "metadata": {},
   "source": [
    "#### Checking if the table has duplicated rows and removing them"
   ]
  },
  {
   "cell_type": "code",
   "execution_count": 8,
   "id": "cd82bc0d-65f2-4fba-902c-5c5697af003d",
   "metadata": {},
   "outputs": [
    {
     "data": {
      "text/plain": [
       "np.int64(1233)"
      ]
     },
     "execution_count": 8,
     "metadata": {},
     "output_type": "execute_result"
    }
   ],
   "source": [
    "df_rides.duplicated(subset=['Booking ID']).sum()"
   ]
  },
  {
   "cell_type": "code",
   "execution_count": 9,
   "id": "ff26ffae-90ee-48b1-8711-c2dbdacad552",
   "metadata": {},
   "outputs": [
    {
     "data": {
      "text/plain": [
       "np.int64(0)"
      ]
     },
     "execution_count": 9,
     "metadata": {},
     "output_type": "execute_result"
    }
   ],
   "source": [
    "df_rides.drop_duplicates(subset=['Booking ID'], inplace=True)\n",
    "df_rides.duplicated(subset=['Booking ID']).sum()"
   ]
  },
  {
   "cell_type": "code",
   "execution_count": 10,
   "id": "fdb35c89-3d7d-4c0d-8cb0-49bbc1438790",
   "metadata": {},
   "outputs": [
    {
     "data": {
      "text/plain": [
       "array(['Unknown', 'UPI', 'Debit Card', 'Cash', 'Uber Wallet',\n",
       "       'Credit Card'], dtype=object)"
      ]
     },
     "execution_count": 10,
     "metadata": {},
     "output_type": "execute_result"
    }
   ],
   "source": [
    "df_rides['Payment Method'].unique()"
   ]
  },
  {
   "cell_type": "code",
   "execution_count": 11,
   "id": "2ac3788b-5b9e-43b7-bd50-d610371abbb4",
   "metadata": {},
   "outputs": [
    {
     "data": {
      "text/plain": [
       "array(['No Driver Found', 'Incomplete', 'Completed',\n",
       "       'Cancelled by Driver', 'Cancelled by Customer'], dtype=object)"
      ]
     },
     "execution_count": 11,
     "metadata": {},
     "output_type": "execute_result"
    }
   ],
   "source": [
    "df_rides['Booking Status'].unique()"
   ]
  },
  {
   "cell_type": "code",
   "execution_count": 12,
   "id": "432f00c2-34d2-427c-8d68-2ec1da0964af",
   "metadata": {},
   "outputs": [
    {
     "data": {
      "text/plain": [
       "array(['eBike', 'Go Sedan', 'Auto', 'Premier Sedan', 'Bike', 'Go Mini',\n",
       "       'Uber XL'], dtype=object)"
      ]
     },
     "execution_count": 12,
     "metadata": {},
     "output_type": "execute_result"
    }
   ],
   "source": [
    "df_rides['Vehicle Type'].unique()"
   ]
  },
  {
   "cell_type": "code",
   "execution_count": 13,
   "id": "f51cdea6-80e5-4738-a16d-58cd78acc755",
   "metadata": {},
   "outputs": [
    {
     "data": {
      "text/plain": [
       "148767"
      ]
     },
     "execution_count": 13,
     "metadata": {},
     "output_type": "execute_result"
    }
   ],
   "source": [
    "df_rides.to_sql('rides', conn, if_exists = 'replace', index=False)"
   ]
  },
  {
   "cell_type": "code",
   "execution_count": 14,
   "id": "ce73571e-2ae7-42ce-8be5-371cb9a14766",
   "metadata": {
    "scrolled": true
   },
   "outputs": [
    {
     "data": {
      "text/html": [
       "<div>\n",
       "<style scoped>\n",
       "    .dataframe tbody tr th:only-of-type {\n",
       "        vertical-align: middle;\n",
       "    }\n",
       "\n",
       "    .dataframe tbody tr th {\n",
       "        vertical-align: top;\n",
       "    }\n",
       "\n",
       "    .dataframe thead th {\n",
       "        text-align: right;\n",
       "    }\n",
       "</style>\n",
       "<table border=\"1\" class=\"dataframe\">\n",
       "  <thead>\n",
       "    <tr style=\"text-align: right;\">\n",
       "      <th></th>\n",
       "      <th>Date</th>\n",
       "      <th>Time</th>\n",
       "      <th>Booking ID</th>\n",
       "      <th>Booking Status</th>\n",
       "      <th>Customer ID</th>\n",
       "      <th>Vehicle Type</th>\n",
       "      <th>Pickup Location</th>\n",
       "      <th>Drop Location</th>\n",
       "      <th>Avg VTAT</th>\n",
       "      <th>Avg CTAT</th>\n",
       "      <th>...</th>\n",
       "      <th>Reason for cancelling by Customer</th>\n",
       "      <th>Cancelled Rides by Driver</th>\n",
       "      <th>Driver Cancellation Reason</th>\n",
       "      <th>Incomplete Rides</th>\n",
       "      <th>Incomplete Rides Reason</th>\n",
       "      <th>Booking Value</th>\n",
       "      <th>Ride Distance</th>\n",
       "      <th>Driver Ratings</th>\n",
       "      <th>Customer Rating</th>\n",
       "      <th>Payment Method</th>\n",
       "    </tr>\n",
       "  </thead>\n",
       "  <tbody>\n",
       "    <tr>\n",
       "      <th>0</th>\n",
       "      <td>2024-03-23</td>\n",
       "      <td>12:29:38</td>\n",
       "      <td>\"CNR5884300\"</td>\n",
       "      <td>No Driver Found</td>\n",
       "      <td>\"CID1982111\"</td>\n",
       "      <td>eBike</td>\n",
       "      <td>Palam Vihar</td>\n",
       "      <td>Jhilmil</td>\n",
       "      <td>8.3</td>\n",
       "      <td>28.8</td>\n",
       "      <td>...</td>\n",
       "      <td>Unknown</td>\n",
       "      <td>0.0</td>\n",
       "      <td>Unknown</td>\n",
       "      <td>0.0</td>\n",
       "      <td>Unknown</td>\n",
       "      <td>414.0</td>\n",
       "      <td>23.72</td>\n",
       "      <td>4.3</td>\n",
       "      <td>4.5</td>\n",
       "      <td>Unknown</td>\n",
       "    </tr>\n",
       "    <tr>\n",
       "      <th>1</th>\n",
       "      <td>2024-11-29</td>\n",
       "      <td>18:01:39</td>\n",
       "      <td>\"CNR1326809\"</td>\n",
       "      <td>Incomplete</td>\n",
       "      <td>\"CID4604802\"</td>\n",
       "      <td>Go Sedan</td>\n",
       "      <td>Shastri Nagar</td>\n",
       "      <td>Gurgaon Sector 56</td>\n",
       "      <td>4.9</td>\n",
       "      <td>14.0</td>\n",
       "      <td>...</td>\n",
       "      <td>Unknown</td>\n",
       "      <td>0.0</td>\n",
       "      <td>Unknown</td>\n",
       "      <td>1.0</td>\n",
       "      <td>Vehicle Breakdown</td>\n",
       "      <td>237.0</td>\n",
       "      <td>5.73</td>\n",
       "      <td>4.3</td>\n",
       "      <td>4.5</td>\n",
       "      <td>UPI</td>\n",
       "    </tr>\n",
       "    <tr>\n",
       "      <th>2</th>\n",
       "      <td>2024-08-23</td>\n",
       "      <td>08:56:10</td>\n",
       "      <td>\"CNR8494506\"</td>\n",
       "      <td>Completed</td>\n",
       "      <td>\"CID9202816\"</td>\n",
       "      <td>Auto</td>\n",
       "      <td>Khandsa</td>\n",
       "      <td>Malviya Nagar</td>\n",
       "      <td>13.4</td>\n",
       "      <td>25.8</td>\n",
       "      <td>...</td>\n",
       "      <td>Unknown</td>\n",
       "      <td>0.0</td>\n",
       "      <td>Unknown</td>\n",
       "      <td>0.0</td>\n",
       "      <td>Unknown</td>\n",
       "      <td>627.0</td>\n",
       "      <td>13.58</td>\n",
       "      <td>4.9</td>\n",
       "      <td>4.9</td>\n",
       "      <td>Debit Card</td>\n",
       "    </tr>\n",
       "    <tr>\n",
       "      <th>3</th>\n",
       "      <td>2024-10-21</td>\n",
       "      <td>17:17:25</td>\n",
       "      <td>\"CNR8906825\"</td>\n",
       "      <td>Completed</td>\n",
       "      <td>\"CID2610914\"</td>\n",
       "      <td>Premier Sedan</td>\n",
       "      <td>Central Secretariat</td>\n",
       "      <td>Inderlok</td>\n",
       "      <td>13.1</td>\n",
       "      <td>28.5</td>\n",
       "      <td>...</td>\n",
       "      <td>Unknown</td>\n",
       "      <td>0.0</td>\n",
       "      <td>Unknown</td>\n",
       "      <td>0.0</td>\n",
       "      <td>Unknown</td>\n",
       "      <td>416.0</td>\n",
       "      <td>34.02</td>\n",
       "      <td>4.6</td>\n",
       "      <td>5.0</td>\n",
       "      <td>UPI</td>\n",
       "    </tr>\n",
       "    <tr>\n",
       "      <th>4</th>\n",
       "      <td>2024-09-16</td>\n",
       "      <td>22:08:00</td>\n",
       "      <td>\"CNR1950162\"</td>\n",
       "      <td>Completed</td>\n",
       "      <td>\"CID9933542\"</td>\n",
       "      <td>Bike</td>\n",
       "      <td>Ghitorni Village</td>\n",
       "      <td>Khan Market</td>\n",
       "      <td>5.3</td>\n",
       "      <td>19.6</td>\n",
       "      <td>...</td>\n",
       "      <td>Unknown</td>\n",
       "      <td>0.0</td>\n",
       "      <td>Unknown</td>\n",
       "      <td>0.0</td>\n",
       "      <td>Unknown</td>\n",
       "      <td>737.0</td>\n",
       "      <td>48.21</td>\n",
       "      <td>4.1</td>\n",
       "      <td>4.3</td>\n",
       "      <td>UPI</td>\n",
       "    </tr>\n",
       "    <tr>\n",
       "      <th>...</th>\n",
       "      <td>...</td>\n",
       "      <td>...</td>\n",
       "      <td>...</td>\n",
       "      <td>...</td>\n",
       "      <td>...</td>\n",
       "      <td>...</td>\n",
       "      <td>...</td>\n",
       "      <td>...</td>\n",
       "      <td>...</td>\n",
       "      <td>...</td>\n",
       "      <td>...</td>\n",
       "      <td>...</td>\n",
       "      <td>...</td>\n",
       "      <td>...</td>\n",
       "      <td>...</td>\n",
       "      <td>...</td>\n",
       "      <td>...</td>\n",
       "      <td>...</td>\n",
       "      <td>...</td>\n",
       "      <td>...</td>\n",
       "      <td>...</td>\n",
       "    </tr>\n",
       "    <tr>\n",
       "      <th>149995</th>\n",
       "      <td>2024-11-11</td>\n",
       "      <td>19:34:01</td>\n",
       "      <td>\"CNR6500631\"</td>\n",
       "      <td>Completed</td>\n",
       "      <td>\"CID4337371\"</td>\n",
       "      <td>Go Mini</td>\n",
       "      <td>MG Road</td>\n",
       "      <td>Ghitorni</td>\n",
       "      <td>10.2</td>\n",
       "      <td>44.4</td>\n",
       "      <td>...</td>\n",
       "      <td>Unknown</td>\n",
       "      <td>0.0</td>\n",
       "      <td>Unknown</td>\n",
       "      <td>0.0</td>\n",
       "      <td>Unknown</td>\n",
       "      <td>475.0</td>\n",
       "      <td>40.08</td>\n",
       "      <td>3.7</td>\n",
       "      <td>4.1</td>\n",
       "      <td>Uber Wallet</td>\n",
       "    </tr>\n",
       "    <tr>\n",
       "      <th>149996</th>\n",
       "      <td>2024-11-24</td>\n",
       "      <td>15:55:09</td>\n",
       "      <td>\"CNR2468611\"</td>\n",
       "      <td>Completed</td>\n",
       "      <td>\"CID2325623\"</td>\n",
       "      <td>Go Mini</td>\n",
       "      <td>Golf Course Road</td>\n",
       "      <td>Akshardham</td>\n",
       "      <td>5.1</td>\n",
       "      <td>30.8</td>\n",
       "      <td>...</td>\n",
       "      <td>Unknown</td>\n",
       "      <td>0.0</td>\n",
       "      <td>Unknown</td>\n",
       "      <td>0.0</td>\n",
       "      <td>Unknown</td>\n",
       "      <td>1093.0</td>\n",
       "      <td>21.31</td>\n",
       "      <td>4.8</td>\n",
       "      <td>5.0</td>\n",
       "      <td>UPI</td>\n",
       "    </tr>\n",
       "    <tr>\n",
       "      <th>149997</th>\n",
       "      <td>2024-09-18</td>\n",
       "      <td>10:55:15</td>\n",
       "      <td>\"CNR6358306\"</td>\n",
       "      <td>Completed</td>\n",
       "      <td>\"CID9925486\"</td>\n",
       "      <td>Go Sedan</td>\n",
       "      <td>Satguru Ram Singh Marg</td>\n",
       "      <td>Jor Bagh</td>\n",
       "      <td>2.7</td>\n",
       "      <td>23.4</td>\n",
       "      <td>...</td>\n",
       "      <td>Unknown</td>\n",
       "      <td>0.0</td>\n",
       "      <td>Unknown</td>\n",
       "      <td>0.0</td>\n",
       "      <td>Unknown</td>\n",
       "      <td>852.0</td>\n",
       "      <td>15.93</td>\n",
       "      <td>3.9</td>\n",
       "      <td>4.4</td>\n",
       "      <td>Cash</td>\n",
       "    </tr>\n",
       "    <tr>\n",
       "      <th>149998</th>\n",
       "      <td>2024-10-05</td>\n",
       "      <td>07:53:34</td>\n",
       "      <td>\"CNR3030099\"</td>\n",
       "      <td>Completed</td>\n",
       "      <td>\"CID9415487\"</td>\n",
       "      <td>Auto</td>\n",
       "      <td>Ghaziabad</td>\n",
       "      <td>Saidulajab</td>\n",
       "      <td>6.9</td>\n",
       "      <td>39.6</td>\n",
       "      <td>...</td>\n",
       "      <td>Unknown</td>\n",
       "      <td>0.0</td>\n",
       "      <td>Unknown</td>\n",
       "      <td>0.0</td>\n",
       "      <td>Unknown</td>\n",
       "      <td>333.0</td>\n",
       "      <td>45.54</td>\n",
       "      <td>4.1</td>\n",
       "      <td>3.7</td>\n",
       "      <td>UPI</td>\n",
       "    </tr>\n",
       "    <tr>\n",
       "      <th>149999</th>\n",
       "      <td>2024-03-10</td>\n",
       "      <td>15:38:03</td>\n",
       "      <td>\"CNR3447390\"</td>\n",
       "      <td>Completed</td>\n",
       "      <td>\"CID4108667\"</td>\n",
       "      <td>Premier Sedan</td>\n",
       "      <td>Ashok Park Main</td>\n",
       "      <td>Gurgaon Sector 29</td>\n",
       "      <td>3.5</td>\n",
       "      <td>33.7</td>\n",
       "      <td>...</td>\n",
       "      <td>Unknown</td>\n",
       "      <td>0.0</td>\n",
       "      <td>Unknown</td>\n",
       "      <td>0.0</td>\n",
       "      <td>Unknown</td>\n",
       "      <td>806.0</td>\n",
       "      <td>21.19</td>\n",
       "      <td>4.6</td>\n",
       "      <td>4.9</td>\n",
       "      <td>Credit Card</td>\n",
       "    </tr>\n",
       "  </tbody>\n",
       "</table>\n",
       "<p>148767 rows × 21 columns</p>\n",
       "</div>"
      ],
      "text/plain": [
       "              Date      Time    Booking ID   Booking Status   Customer ID  \\\n",
       "0       2024-03-23  12:29:38  \"CNR5884300\"  No Driver Found  \"CID1982111\"   \n",
       "1       2024-11-29  18:01:39  \"CNR1326809\"       Incomplete  \"CID4604802\"   \n",
       "2       2024-08-23  08:56:10  \"CNR8494506\"        Completed  \"CID9202816\"   \n",
       "3       2024-10-21  17:17:25  \"CNR8906825\"        Completed  \"CID2610914\"   \n",
       "4       2024-09-16  22:08:00  \"CNR1950162\"        Completed  \"CID9933542\"   \n",
       "...            ...       ...           ...              ...           ...   \n",
       "149995  2024-11-11  19:34:01  \"CNR6500631\"        Completed  \"CID4337371\"   \n",
       "149996  2024-11-24  15:55:09  \"CNR2468611\"        Completed  \"CID2325623\"   \n",
       "149997  2024-09-18  10:55:15  \"CNR6358306\"        Completed  \"CID9925486\"   \n",
       "149998  2024-10-05  07:53:34  \"CNR3030099\"        Completed  \"CID9415487\"   \n",
       "149999  2024-03-10  15:38:03  \"CNR3447390\"        Completed  \"CID4108667\"   \n",
       "\n",
       "         Vehicle Type         Pickup Location      Drop Location  Avg VTAT  \\\n",
       "0               eBike             Palam Vihar            Jhilmil       8.3   \n",
       "1            Go Sedan           Shastri Nagar  Gurgaon Sector 56       4.9   \n",
       "2                Auto                 Khandsa      Malviya Nagar      13.4   \n",
       "3       Premier Sedan     Central Secretariat           Inderlok      13.1   \n",
       "4                Bike        Ghitorni Village        Khan Market       5.3   \n",
       "...               ...                     ...                ...       ...   \n",
       "149995        Go Mini                 MG Road           Ghitorni      10.2   \n",
       "149996        Go Mini        Golf Course Road         Akshardham       5.1   \n",
       "149997       Go Sedan  Satguru Ram Singh Marg           Jor Bagh       2.7   \n",
       "149998           Auto               Ghaziabad         Saidulajab       6.9   \n",
       "149999  Premier Sedan         Ashok Park Main  Gurgaon Sector 29       3.5   \n",
       "\n",
       "        Avg CTAT  ...  Reason for cancelling by Customer  \\\n",
       "0           28.8  ...                            Unknown   \n",
       "1           14.0  ...                            Unknown   \n",
       "2           25.8  ...                            Unknown   \n",
       "3           28.5  ...                            Unknown   \n",
       "4           19.6  ...                            Unknown   \n",
       "...          ...  ...                                ...   \n",
       "149995      44.4  ...                            Unknown   \n",
       "149996      30.8  ...                            Unknown   \n",
       "149997      23.4  ...                            Unknown   \n",
       "149998      39.6  ...                            Unknown   \n",
       "149999      33.7  ...                            Unknown   \n",
       "\n",
       "       Cancelled Rides by Driver  Driver Cancellation Reason Incomplete Rides  \\\n",
       "0                            0.0                     Unknown              0.0   \n",
       "1                            0.0                     Unknown              1.0   \n",
       "2                            0.0                     Unknown              0.0   \n",
       "3                            0.0                     Unknown              0.0   \n",
       "4                            0.0                     Unknown              0.0   \n",
       "...                          ...                         ...              ...   \n",
       "149995                       0.0                     Unknown              0.0   \n",
       "149996                       0.0                     Unknown              0.0   \n",
       "149997                       0.0                     Unknown              0.0   \n",
       "149998                       0.0                     Unknown              0.0   \n",
       "149999                       0.0                     Unknown              0.0   \n",
       "\n",
       "        Incomplete Rides Reason Booking Value  Ride Distance  Driver Ratings  \\\n",
       "0                       Unknown         414.0          23.72             4.3   \n",
       "1             Vehicle Breakdown         237.0           5.73             4.3   \n",
       "2                       Unknown         627.0          13.58             4.9   \n",
       "3                       Unknown         416.0          34.02             4.6   \n",
       "4                       Unknown         737.0          48.21             4.1   \n",
       "...                         ...           ...            ...             ...   \n",
       "149995                  Unknown         475.0          40.08             3.7   \n",
       "149996                  Unknown        1093.0          21.31             4.8   \n",
       "149997                  Unknown         852.0          15.93             3.9   \n",
       "149998                  Unknown         333.0          45.54             4.1   \n",
       "149999                  Unknown         806.0          21.19             4.6   \n",
       "\n",
       "        Customer Rating  Payment Method  \n",
       "0                   4.5         Unknown  \n",
       "1                   4.5             UPI  \n",
       "2                   4.9      Debit Card  \n",
       "3                   5.0             UPI  \n",
       "4                   4.3             UPI  \n",
       "...                 ...             ...  \n",
       "149995              4.1     Uber Wallet  \n",
       "149996              5.0             UPI  \n",
       "149997              4.4            Cash  \n",
       "149998              3.7             UPI  \n",
       "149999              4.9     Credit Card  \n",
       "\n",
       "[148767 rows x 21 columns]"
      ]
     },
     "execution_count": 14,
     "metadata": {},
     "output_type": "execute_result"
    }
   ],
   "source": [
    "df_rides"
   ]
  },
  {
   "cell_type": "markdown",
   "id": "04384ba6-e028-4b04-bedb-bb2d314ec7fb",
   "metadata": {},
   "source": [
    "#### 1.Analysis of revenue and success rates by vehicle type."
   ]
  },
  {
   "cell_type": "code",
   "execution_count": 15,
   "id": "417bd9b7-c89d-495e-8f47-54167cc39afa",
   "metadata": {},
   "outputs": [
    {
     "name": "stdout",
     "output_type": "stream",
     "text": [
      "The analysis of revenues and rates of success per vehicle type is:\n",
      "    Vehicle Type  Total_Revenue  Succes_Bookings_rating\n",
      "0           Auto     17711434.0               61.865388\n",
      "1        Go Mini     14130266.0               62.268237\n",
      "2       Go Sedan     12924839.0               61.446499\n",
      "3           Bike     10698720.0               62.375661\n",
      "4  Premier Sedan      8599586.0               62.161560\n",
      "5          eBike      4968848.0               61.962134\n",
      "6        Uber XL      2095659.0               62.528268\n"
     ]
    }
   ],
   "source": [
    "query1 = \"\"\"\n",
    "SELECT \"Vehicle Type\",\n",
    "       SUM(\"Booking Value\") AS Total_Revenue,\n",
    "       CAST(SUM(CASE WHEN \"Booking Status\" = 'Completed' THEN 1 ELSE 0 END) AS REAL) * 100/COUNT(*) AS Succes_Bookings_rating\n",
    "       FROM rides\n",
    "       GROUP BY \"Vehicle Type\"\n",
    "       Order by Total_Revenue DESC;\n",
    "\"\"\"\n",
    "df_result1 = pd.read_sql(query1, conn)\n",
    "print(\"The analysis of revenues and rates of success per vehicle type is:\")\n",
    "print(df_result1)"
   ]
  },
  {
   "cell_type": "markdown",
   "id": "472a60b6-5cfb-4b48-b7ec-415b9613f153",
   "metadata": {},
   "source": [
    "#### 2.Identify peak times and most popular pickup locations"
   ]
  },
  {
   "cell_type": "code",
   "execution_count": 16,
   "id": "f4ac4705-0d76-468c-940c-fddefb730501",
   "metadata": {},
   "outputs": [
    {
     "name": "stdout",
     "output_type": "stream",
     "text": [
      "Peak hour analysis:\n",
      "   Hour  Total_Bookings\n",
      "0    18           12298\n",
      "1    19           10963\n",
      "2    17           10962\n",
      "3    16            9565\n",
      "4    20            9549\n",
      "5    10            9490\n",
      "6    11            8309\n",
      "7    09            8170\n",
      "8    15            8139\n",
      "9    21            8031\n",
      "10   14            6963\n",
      "11   12            6943\n",
      "12   08            6806\n",
      "13   13            5431\n",
      "14   07            5401\n",
      "15   22            5397\n",
      "16   06            4129\n",
      "17   05            2764\n",
      "18   23            2739\n",
      "19   03            1374\n",
      "20   00            1365\n",
      "21   01            1347\n",
      "22   02            1321\n",
      "23   04            1311\n"
     ]
    }
   ],
   "source": [
    "query2_hours = \"\"\"\n",
    "SELECT strftime('%H', Time) AS Hour,\n",
    "       COUNT(*) AS Total_Bookings\n",
    "       FROM rides\n",
    "       GROUP BY Hour\n",
    "       ORDER BY Total_Bookings DESC;\n",
    "\"\"\"\n",
    "df_peak_hours = pd.read_sql(query2_hours, conn)\n",
    "print(\"Peak hour analysis:\")\n",
    "print(df_peak_hours)"
   ]
  },
  {
   "cell_type": "code",
   "execution_count": 17,
   "id": "6b9d0c7c-d48f-4194-8787-cf032dd49a49",
   "metadata": {},
   "outputs": [
    {
     "name": "stdout",
     "output_type": "stream",
     "text": [
      "Analysis of the most popular pickup locations:\n",
      "    Pickup Location  Bookings\n",
      "0           Khandsa       947\n",
      "1   Barakhamba Road       939\n",
      "2             Saket       929\n",
      "3    Pragati Maidan       912\n",
      "4          Badarpur       912\n",
      "5             AIIMS       909\n",
      "6           Madipur       908\n",
      "7  Dwarka Sector 21       908\n",
      "8          Mehrauli       904\n",
      "9     Pataudi Chowk       901\n"
     ]
    }
   ],
   "source": [
    "query2_Pickup_Location = \"\"\"\n",
    "SELECT \"Pickup Location\",\n",
    "  COUNT(*) AS Bookings\n",
    "FROM rides\n",
    "GROUP BY \"Pickup Location\"\n",
    "ORDER BY Bookings DESC\n",
    "LIMIT 10;\n",
    "\"\"\"\n",
    "df_popular_locations = pd.read_sql(query2_Pickup_Location, conn)\n",
    "print(\"Analysis of the most popular pickup locations:\")\n",
    "print(df_popular_locations)\n"
   ]
  },
  {
   "cell_type": "markdown",
   "id": "b49eff9a-179f-4191-98fa-bbe63d354d79",
   "metadata": {},
   "source": [
    "#### 3.Analysis of the reasons for cancellation and their impact."
   ]
  },
  {
   "cell_type": "code",
   "execution_count": 18,
   "id": "8fbbf427-6d77-4232-8b3a-8f52990155a8",
   "metadata": {},
   "outputs": [
    {
     "name": "stdout",
     "output_type": "stream",
     "text": [
      "                            Cancellation_reason  Cancelled Rides  \\\n",
      "0                                       Unknown            26789   \n",
      "1                                 Wrong Address             2348   \n",
      "2                               Change of plans             2326   \n",
      "3  Driver is not moving towards pickup location             2315   \n",
      "4                        Driver asked to cancel             2274   \n",
      "5                             AC is not working             1139   \n",
      "\n",
      "   Potential_revenue_lost  \n",
      "0              11090646.0  \n",
      "1                972072.0  \n",
      "2                962964.0  \n",
      "3                958410.0  \n",
      "4                941436.0  \n",
      "5                471546.0  \n"
     ]
    }
   ],
   "source": [
    "query3= \"\"\"\n",
    "SELECT COALESCE(\"Reason for cancelling by Customer\", \"Driver Cancellation Reason\") AS Cancellation_reason,\n",
    "  COUNT(*) AS \"Cancelled Rides\",\n",
    "  SUM(\"Booking Value\") AS Potential_revenue_lost\n",
    "FROM rides\n",
    "WHERE \"Booking Status\" LIKE 'Cancelled by%'\n",
    "GROUP BY Cancellation_reason\n",
    "ORDER BY \"Cancelled Rides\" DESC;\n",
    "\"\"\"\n",
    "df_cancellation_reasons = pd.read_sql(query3, conn)\n",
    "print(df_cancellation_reasons)"
   ]
  },
  {
   "cell_type": "markdown",
   "id": "8e3bcb75-1fb0-404d-8466-07609a131ea8",
   "metadata": {},
   "source": [
    "#### 4.Comparison of ratings between drivers and customers, by vehicle type."
   ]
  },
  {
   "cell_type": "code",
   "execution_count": 19,
   "id": "ff98bda8-0de6-4507-bc08-a3babaa2a34b",
   "metadata": {},
   "outputs": [
    {
     "name": "stdout",
     "output_type": "stream",
     "text": [
      "    Vehicle Type  AVG_Drivers_Rating  AVG_Customers_Rating\n",
      "0        Uber XL            4.238590              4.403978\n",
      "1  Premier Sedan            4.234522              4.403827\n",
      "2           Auto            4.232268              4.401559\n",
      "3       Go Sedan            4.231734              4.409921\n",
      "4           Bike            4.229208              4.403635\n",
      "5        Go Mini            4.227527              4.403885\n",
      "6          eBike            4.225571              4.403241\n"
     ]
    }
   ],
   "source": [
    "query4= \"\"\"\n",
    "SELECT \"Vehicle Type\",\n",
    "  AVG(\"Driver Ratings\") AS AVG_Drivers_Rating,\n",
    "  AVG(\"Customer Rating\") AS AVG_Customers_Rating\n",
    "FROM rides\n",
    "WHERE \"Booking Status\" = 'Completed'\n",
    "GROUP BY \"Vehicle Type\"\n",
    "ORDER BY AVG_Drivers_Rating DESC;\n",
    "\"\"\"\n",
    "df_ratings = pd.read_sql(query4, conn)\n",
    "print(df_ratings)"
   ]
  },
  {
   "cell_type": "markdown",
   "id": "4bc404d7-5ba0-450e-80f2-0397ccfd9331",
   "metadata": {},
   "source": [
    "#### 5.Revenue distribution by payment methods"
   ]
  },
  {
   "cell_type": "code",
   "execution_count": 20,
   "id": "dbd8a0fb-f1b6-4ff5-b573-bbb8ef3fb871",
   "metadata": {},
   "outputs": [
    {
     "name": "stdout",
     "output_type": "stream",
     "text": [
      "  Payment Method  Total_revenue\n",
      "0            UPI     21104861.0\n",
      "1           Cash     11661552.0\n",
      "2    Uber Wallet      5624188.0\n",
      "3    Credit Card      4712151.0\n",
      "4     Debit Card      3776631.0\n"
     ]
    }
   ],
   "source": [
    "query5 = \"\"\"\n",
    "SELECT \"Payment Method\",\n",
    "  SUM(\"Booking Value\") AS Total_revenue\n",
    "FROM rides\n",
    "WHERE \"Booking Status\" = 'Completed'\n",
    "GROUP BY \"Payment Method\"\n",
    "ORDER BY Total_revenue DESC;\n",
    "\"\"\"\n",
    "df_revenue = pd.read_sql(query5, conn)\n",
    "print(df_revenue)"
   ]
  },
  {
   "cell_type": "code",
   "execution_count": null,
   "id": "6cf3ce08-81bc-48d3-a2e9-1ceb98a15056",
   "metadata": {},
   "outputs": [],
   "source": []
  }
 ],
 "metadata": {
  "kernelspec": {
   "display_name": "Python [conda env:base] *",
   "language": "python",
   "name": "conda-base-py"
  },
  "language_info": {
   "codemirror_mode": {
    "name": "ipython",
    "version": 3
   },
   "file_extension": ".py",
   "mimetype": "text/x-python",
   "name": "python",
   "nbconvert_exporter": "python",
   "pygments_lexer": "ipython3",
   "version": "3.13.5"
  }
 },
 "nbformat": 4,
 "nbformat_minor": 5
}
